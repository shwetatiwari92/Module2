{
 "cells": [
  {
   "cell_type": "code",
   "execution_count": 1,
   "id": "b118757a",
   "metadata": {},
   "outputs": [
    {
     "name": "stdout",
     "output_type": "stream",
     "text": [
      "Enter a number: 9\n",
      "Positive number\n"
     ]
    }
   ],
   "source": [
    "#1.Write a Python program to check if a number is positive, negative or zero\n",
    "num = int(input(\"Enter a number: \"))\n",
    "if num > 0:\n",
    "   print(\"Positive number\")\n",
    "elif num == 0:\n",
    "   print(\"Zero\")\n",
    "else:\n",
    "   print(\"Negative number\")\n"
   ]
  },
  {
   "cell_type": "code",
   "execution_count": 5,
   "id": "c2437ec9",
   "metadata": {},
   "outputs": [
    {
     "name": "stdout",
     "output_type": "stream",
     "text": [
      "Enter the number:9\n",
      "The factorial of 0 is 362880\n"
     ]
    }
   ],
   "source": [
    "#2.Write a Python program to get the Factorial number of given number. \n",
    "fact=1\n",
    "num = int (input(\"Enter the number:\"))\n",
    "while num>0:\n",
    "    fact = fact*num\n",
    "    num = num-1\n",
    "print(\"The factorial of\",num,\"is\",fact)"
   ]
  },
  {
   "cell_type": "code",
   "execution_count": 4,
   "id": "d282d147",
   "metadata": {},
   "outputs": [
    {
     "name": "stdout",
     "output_type": "stream",
     "text": [
      "Enter any number :6\n",
      "0 1 1 2 3 5 "
     ]
    }
   ],
   "source": [
    "#3.Write a Python program to get the Fibonacci series of given range. \n",
    "num = int(input(\"Enter any number :\"))\n",
    "n1,n2=0,1\n",
    "sum = 0\n",
    "if num<0:\n",
    "    print(\"Please enter greater than 0\")\n",
    "else:\n",
    "    for i in range(0,num):\n",
    "        print(sum,end=\" \")\n",
    "        n1 = n2\n",
    "        n2 = sum\n",
    "        sum = n1+n2"
   ]
  },
  {
   "cell_type": "code",
   "execution_count": 11,
   "id": "955fe1d3",
   "metadata": {},
   "outputs": [
    {
     "name": "stdout",
     "output_type": "stream",
     "text": [
      "Before swaping values \n",
      "a: 10\n",
      "b: 20\n",
      "After swaping values \n",
      "a: 20\n",
      "b: 10\n",
      "After swaping values \n",
      "a: 10\n",
      "b: 20\n"
     ]
    }
   ],
   "source": [
    "#4. Write python program that swap two number with temp variable and\n",
    "# without temp variable.\n",
    "a=10\n",
    "b=20\n",
    "print(\"Before swaping values \")\n",
    "print(\"a:\",a)\n",
    "print(\"b:\",b)\n",
    "temp=a\n",
    "a=b;\n",
    "b=temp\n",
    "print(\"After swaping values \")\n",
    "print(\"a:\",a)\n",
    "print(\"b:\",b)\n",
    "#without using third variable\n",
    "a=a+b;\n",
    "b=a-b\n",
    "a=a-b\n",
    "print(\"After swaping values \")\n",
    "print(\"a:\",a)\n",
    "print(\"b:\",b)\n"
   ]
  },
  {
   "cell_type": "code",
   "execution_count": 12,
   "id": "2353bff0",
   "metadata": {},
   "outputs": [
    {
     "name": "stdout",
     "output_type": "stream",
     "text": [
      "Enter a number:2\n",
      "Number is even\n"
     ]
    }
   ],
   "source": [
    "#5. Write a Python program to find whether a given number is even or odd,\n",
    "# print out an appropriate message to the user. \n",
    "number = int(input(\"Enter a number:\"))\n",
    "if number % 2==0:\n",
    "    print(\"Number is even\")\n",
    "else:\n",
    "    print(\"Number is odd\")"
   ]
  },
  {
   "cell_type": "code",
   "execution_count": 13,
   "id": "c6ba871b",
   "metadata": {},
   "outputs": [
    {
     "name": "stdout",
     "output_type": "stream",
     "text": [
      "Enter a sentence:e\n",
      "e\n",
      "number of vowels: 1\n"
     ]
    }
   ],
   "source": [
    "#6.Write a Python program to test whether a passed letter is a vowel or\n",
    "# not. \n",
    "a=input(\"Enter a sentence:\")\n",
    "count=0\n",
    "for i in a:\n",
    "    if i=='a'or i=='e' or i=='i' or i=='o' or i=='u':\n",
    "        print(i)\n",
    "        count=count+1\n",
    "if count==0:\n",
    "    print(\"no vowel found\")\n",
    "else:\n",
    "    print(\"number of vowels:\",count)"
   ]
  },
  {
   "cell_type": "code",
   "execution_count": 16,
   "id": "248ed9a9",
   "metadata": {},
   "outputs": [
    {
     "name": "stdout",
     "output_type": "stream",
     "text": [
      "Enter first value:22\n",
      "Enter second value:33\n",
      "Enter third value:44\n",
      "Sum is: 99\n"
     ]
    }
   ],
   "source": [
    "#7. Write a Python program to sum of three given integers. However, if\n",
    "# two values are equal sum will be zero.\n",
    "a=int(input(\"Enter first value:\"))\n",
    "b=int(input(\"Enter second value:\"))\n",
    "c=int(input(\"Enter third value:\"))\n",
    "if a==b or b==c or c==a:\n",
    "    print(\"Sum is:\",0)\n",
    "else:\n",
    "    print(\"Sum is:\",a+b+c)"
   ]
  },
  {
   "cell_type": "code",
   "execution_count": 17,
   "id": "cd4f22f4",
   "metadata": {},
   "outputs": [],
   "source": [
    "#8.Write a Python program that will return true if the two given integer\n",
    "# values are equal or their sum or difference is 5. "
   ]
  },
  {
   "cell_type": "code",
   "execution_count": 19,
   "id": "e13037be",
   "metadata": {},
   "outputs": [
    {
     "name": "stdout",
     "output_type": "stream",
     "text": [
      "Enter Number:2\n",
      "3.0\n"
     ]
    }
   ],
   "source": [
    "#9. Write a python program to sum of the first n positive integers. \n",
    "n=int(input(\"Enter Number:\"))\n",
    "sum=(n*(n+1))/2\n",
    "print(sum)"
   ]
  },
  {
   "cell_type": "code",
   "execution_count": 21,
   "id": "24ab3517",
   "metadata": {},
   "outputs": [
    {
     "name": "stdout",
     "output_type": "stream",
     "text": [
      "6\n"
     ]
    }
   ],
   "source": [
    "#10. Write a Python program to calculate the length of a string. \n",
    "str1=\"Shweta\"\n",
    "n=len(str1)\n",
    "print(n)"
   ]
  },
  {
   "cell_type": "code",
   "execution_count": 7,
   "id": "8728afb9",
   "metadata": {},
   "outputs": [
    {
     "name": "stdout",
     "output_type": "stream",
     "text": [
      "Enter string hii this is shweta\n",
      "[3, 4, 4, 3, 2, 3, 4, 3, 3, 4, 3, 3, 3, 3, 1, 1, 2, 1]\n"
     ]
    }
   ],
   "source": [
    "#11.Write a Python program to count the number of characters (character\n",
    "# frequency) in a string\n",
    "str=input(\"Enter string \")\n",
    "# print(str)\n",
    "l=list(str)\n",
    "# print(l)\n",
    "freq=[l.count(ele)for ele in l]\n",
    "print(freq)"
   ]
  },
  {
   "cell_type": "code",
   "execution_count": 10,
   "id": "c7e73e58",
   "metadata": {},
   "outputs": [
    {
     "name": "stdout",
     "output_type": "stream",
     "text": [
      "\n",
      "2\n",
      "\n"
     ]
    }
   ],
   "source": [
    "#12. Write a Python program to count occurrences of a substring in a string\n",
    "str1 = 'The quick brown fox jumps over the lazy dog.'\n",
    "print()\n",
    "print(str1.count(\"u\"))\n",
    "print()\n"
   ]
  },
  {
   "cell_type": "code",
   "execution_count": 31,
   "id": "e1b1b4bf",
   "metadata": {},
   "outputs": [
    {
     "name": "stdout",
     "output_type": "stream",
     "text": [
      "Enter the string:Hello Good morning!!\n",
      "Enter word:shweta\n",
      "count of the word is: ()\n"
     ]
    }
   ],
   "source": [
    "#13.Write a Python program to count the occurrences of each word in a\n",
    "# given sentence\n",
    "string=input(\"Enter the string:\")\n",
    "word=input(\"Enter word:\")\n",
    "a=[]\n",
    "count=()\n",
    "a=string.split(\" \")\n",
    "for i in range(0,len(a)):\n",
    "    if (word==a[i]):\n",
    "         count=count+1\n",
    "print(\"count of the word is:\",count)"
   ]
  },
  {
   "cell_type": "code",
   "execution_count": 11,
   "id": "7d7f8470",
   "metadata": {},
   "outputs": [
    {
     "name": "stdout",
     "output_type": "stream",
     "text": [
      "Before Swap : abc   xyz\n",
      "After Swap : xyc   abz\n"
     ]
    }
   ],
   "source": [
    "#14.Write a Python program to get a single string from two given strings,\n",
    "# separated by a space and swap the first two characters of each string. \n",
    "a = 'abc'\n",
    "b = 'xyz'\n",
    "print(\"Before Swap :\",a,\" \",b)\n",
    "a1 = b[:2] + a[2:]\n",
    "b1 = a[:2] + b[2:]\n",
    "print(\"After Swap :\",a1,\" \",b1)"
   ]
  },
  {
   "cell_type": "code",
   "execution_count": 38,
   "id": "7ff69635",
   "metadata": {},
   "outputs": [
    {
     "name": "stdout",
     "output_type": "stream",
     "text": [
      "abcing\n"
     ]
    }
   ],
   "source": [
    "#15. Write a Python program to add 'ing' at the end of a given string (length\n",
    "# should be at least 3). If the given string already ends with 'ing' then add\n",
    "# 'ly' instead if the string length of the given string is less than 3, leave it\n",
    "# unchanged.\n",
    "s=\"abc\"\n",
    "if len(s) > 2:\n",
    "    if s.endswith('ing'):\n",
    "       s+='ly'\n",
    "    else:\n",
    "       s+='ing'\n",
    "print(s)"
   ]
  },
  {
   "cell_type": "code",
   "execution_count": 39,
   "id": "3b7894f8",
   "metadata": {},
   "outputs": [],
   "source": [
    "# 16.Write a Python program to find the first appearance of the substring\n",
    "# 'not' and 'poor' from a given string, if 'not' follows the 'poor', replace the\n",
    "# whole 'not'...'poor' substring with 'good'. Return the resulting string"
   ]
  },
  {
   "cell_type": "code",
   "execution_count": 48,
   "id": "36cc5d72",
   "metadata": {},
   "outputs": [
    {
     "name": "stdout",
     "output_type": "stream",
     "text": [
      "Enter line of stringhello good morning\n",
      "Longest string length= 7\n"
     ]
    }
   ],
   "source": [
    "#17. Write a Python function that takes a list of words and returns the length\n",
    "# of the longest one.\n",
    "na=input(\"Enter line of string\")\n",
    "n=na.split()\n",
    "# print(n)\n",
    "longest=len(n[0])\n",
    "for i in n:\n",
    "  if len(i)>longest:\n",
    "    longest=len(i)\n",
    "print(\"Longest string length=\",longest)"
   ]
  },
  {
   "cell_type": "code",
   "execution_count": 12,
   "id": "61d0ec1e",
   "metadata": {},
   "outputs": [
    {
     "name": "stdout",
     "output_type": "stream",
     "text": [
      "dcba\n",
      "python\n"
     ]
    }
   ],
   "source": [
    "#18.Write a Python function to reverses a string if its length is a multiple of\n",
    "# 4.\n",
    "def reverse_string(str1):\n",
    "    if len(str1) % 4 == 0:\n",
    "       return ''.join(reversed(str1))\n",
    "    return str1\n",
    "\n",
    "print(reverse_string('abcd'))\n",
    "print(reverse_string('python'))\n"
   ]
  },
  {
   "cell_type": "code",
   "execution_count": 14,
   "id": "027fd9dd",
   "metadata": {},
   "outputs": [
    {
     "name": "stdout",
     "output_type": "stream",
     "text": [
      "shta\n",
      "shsh\n",
      "\n"
     ]
    }
   ],
   "source": [
    "#19.Write a Python program to get a string made of the first 2 and the last\n",
    "# 2 chars from a given a string. If the string length is less than 2, return\n",
    "# instead of the empty string.\n",
    "def string_both_ends(str):\n",
    "  if len(str) < 2:\n",
    "    return ''\n",
    "\n",
    "  return str[0:2] + str[-2:]\n",
    "\n",
    "print(string_both_ends('shweta'))\n",
    "print(string_both_ends('sh'))\n",
    "print(string_both_ends('s'))\n"
   ]
  },
  {
   "cell_type": "code",
   "execution_count": 2,
   "id": "352e1413",
   "metadata": {},
   "outputs": [
    {
     "name": "stdout",
     "output_type": "stream",
     "text": [
      "python L123anguage.\n"
     ]
    }
   ],
   "source": [
    "#20.Write a Python function to insert a string in the middle of a string. \n",
    "str1=\"python Language.\"\n",
    "i1=\"123\"\n",
    "len1=len(str1)\n",
    "final=str1[:len1//2]+i1+str1[len1//2:]\n",
    "print(final)"
   ]
  },
  {
   "cell_type": "code",
   "execution_count": null,
   "id": "b017019c",
   "metadata": {},
   "outputs": [],
   "source": []
  }
 ],
 "metadata": {
  "kernelspec": {
   "display_name": "Python 3 (ipykernel)",
   "language": "python",
   "name": "python3"
  },
  "language_info": {
   "codemirror_mode": {
    "name": "ipython",
    "version": 3
   },
   "file_extension": ".py",
   "mimetype": "text/x-python",
   "name": "python",
   "nbconvert_exporter": "python",
   "pygments_lexer": "ipython3",
   "version": "3.9.13"
  }
 },
 "nbformat": 4,
 "nbformat_minor": 5
}
